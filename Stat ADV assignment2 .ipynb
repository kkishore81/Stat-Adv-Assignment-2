{
 "cells": [
  {
   "cell_type": "code",
   "execution_count": null,
   "id": "df25c13b-fbc2-42b1-9e49-001d794439eb",
   "metadata": {},
   "outputs": [],
   "source": [
    "# Q1: What are the Probability Mass Function (PMF) and Probability Density Function (PDF)? Explain with an example."
   ]
  },
  {
   "cell_type": "code",
   "execution_count": null,
   "id": "dc320911-1796-4ef0-8115-4c6a6e6fc8cd",
   "metadata": {},
   "outputs": [],
   "source": [
    "\" The Probability Mass Function (PMF) is used for discrete random variables and gives the probability of each individual value.\n",
    "It maps each possible value to its probability.\n",
    "\n",
    "Example of PMF: In a fair six-sided die roll, the PMF will be {1: 1/6, 2: 1/6, 3: 1/6, 4: 1/6, 5: 1/6, 6: 1/6}.\n",
    "\n",
    "The Probability Density Function (PDF) is used for continuous random variables, describing the relative likelihood of values within a given range.\n",
    "It represents the density of probabilities at different points in the continuous distribution.\n",
    "\n",
    "Example of PDF: The PDF of the height of adult males in a population might resemble a bell-shaped curve (normal distribution), with the highest point \n",
    "at the mean height and lower probabilities for extreme heights.\""
   ]
  },
  {
   "cell_type": "code",
   "execution_count": null,
   "id": "dc56c6a6-a5ec-46e6-981d-2c16e691be1d",
   "metadata": {},
   "outputs": [],
   "source": [
    "# Q2: What is Cumulative Density Function (CDF)? Explain with an example. Why CDF is used?"
   ]
  },
  {
   "cell_type": "code",
   "execution_count": 4,
   "id": "aef06600-a7b6-498f-8e24-005b19cc2524",
   "metadata": {},
   "outputs": [],
   "source": [
    "# Cumulative Density Function (CDF) gives the probability that a random variable is less than or equal to a specified value. \n",
    "#It is the integral of the Probability Density Function (PDF) and is used to determine probabilities of random variables falling within certain ranges.\n",
    "\n",
    "#Example: In a fair six-sided die, the CDF at a value of 4 would be 4/6 = 2/3 since there are two outcomes (1, 2, 3, 4) out of six possible outcomes (1 to 6)\n",
    "#that are less than or equal to 4."
   ]
  },
  {
   "cell_type": "code",
   "execution_count": null,
   "id": "bed402de-20de-45bf-91df-b0327d5ca759",
   "metadata": {},
   "outputs": [],
   "source": [
    "#Q3: What are some examples of situations where the normal distribution might be used as a model? \n",
    "#Explain how the parameters of the normal distribution relate to the shape of the distribution."
   ]
  },
  {
   "cell_type": "code",
   "execution_count": 5,
   "id": "7895d2b6-40a6-4586-841d-517edd8ea76c",
   "metadata": {},
   "outputs": [],
   "source": [
    "#Examples of situations where the normal distribution might be used as a model:\n",
    "\n",
    "#Modeling heights of a population.\n",
    "#Approximating errors in measurements or prediction models.\n",
    "\n",
    "#Parameters of the normal distribution (mean and standard deviation) determine the central tendency and spread of the distribution, respectively.\n",
    "#A higher mean shifts the distribution to the right, and a larger standard deviation results in a wider spread."
   ]
  },
  {
   "cell_type": "code",
   "execution_count": null,
   "id": "4ad1932b-2b04-418e-a4fc-5f31de859d67",
   "metadata": {},
   "outputs": [],
   "source": [
    "#Q4: Explain the importance of Normal Distribution. Give a few real-life examples of Normal Distribution. "
   ]
  },
  {
   "cell_type": "code",
   "execution_count": null,
   "id": "017dd458-a987-44ab-9dae-e7b5144feb45",
   "metadata": {},
   "outputs": [],
   "source": [
    "#The Normal Distribution is important because of its prevalence in nature and its many applications in statistics and data analysis.\n",
    "#It simplifies complex phenomena and allows for the application of various statistical methods.\n",
    "\n",
    "#Real-life examples of Normal Distribution:\n",
    "\n",
    "#Heights of individuals in a population.\n",
    "#Test scores of students in a well-designed exam."
   ]
  },
  {
   "cell_type": "code",
   "execution_count": null,
   "id": "ed0fcda9-69e2-4b2f-98db-f18a56b1b29c",
   "metadata": {},
   "outputs": [],
   "source": [
    "#Q5: What is Bernaulli Distribution? Give an Example. What is the difference between Bernoulli Distribution and Binomial Distribution?"
   ]
  },
  {
   "cell_type": "code",
   "execution_count": null,
   "id": "58f165de-5444-44ee-8818-0e87b8a21920",
   "metadata": {},
   "outputs": [],
   "source": [
    "# Bernoulli Distribution is a discrete probability distribution that models a single binary outcome (success or failure) in a single trial, \n",
    "#with a probability of success denoted by 'p'. Example: Flipping a coin (Heads/Tails) where p represents the probability of getting Heads.\n",
    "\n",
    "#The difference between Bernoulli Distribution and Binomial Distribution is that Bernoulli models a single trial (1 trial) with two outcomes, \n",
    "#while Binomial models the number of successes in a fixed number of independent Bernoulli trials (multiple trials). \n",
    "#Binomial distribution has two parameters: 'n' for the number of trials and 'p' for the probability of success in each trial."
   ]
  },
  {
   "cell_type": "code",
   "execution_count": null,
   "id": "f2cd4f64-ea6d-46cb-9c17-c3c3c5b4fb0b",
   "metadata": {},
   "outputs": [],
   "source": [
    "#Q6. Consider a dataset with a mean of 50 and a standard deviation of 10. If we assume that the dataset\n",
    "#is normally distributed, what is the probability that a randomly selected observation will be greater\n",
    "#than 60? Use the appropriate formula and show your calculations."
   ]
  },
  {
   "cell_type": "code",
   "execution_count": null,
   "id": "4a02a005-bdb9-4395-9bc1-fc2e74c9f5b3",
   "metadata": {},
   "outputs": [],
   "source": [
    "\"we can use the Z-score formula and the standard normal distribution table. \n",
    "\n",
    "The Z-score formula is: Z = (X - μ) / σ\n",
    "\n",
    "Where:\n",
    "X = The value for which we want to find the Z-score (in this case, X = 60).\n",
    "μ = Mean of the dataset (given as 50).\n",
    "σ = Standard deviation of the dataset (given as 10).\n",
    "\n",
    "Let's calculate the Z-score first:\n",
    "\n",
    "Z = (60 - 50) / 10\n",
    "Z = 1\n",
    "\n",
    "From the standard normal distribution table, the probability for Z = 1 is approximately 0.8413.\n",
    "\n",
    "So, the probability that a randomly selected observation will be greater than 60 is approximately 0.8413 or 84.13%.\""
   ]
  },
  {
   "cell_type": "code",
   "execution_count": null,
   "id": "85ede7f9-2d06-461f-9690-4e754e7a166c",
   "metadata": {},
   "outputs": [],
   "source": [
    "# Q7: Explain uniform Distribution with an example"
   ]
  },
  {
   "cell_type": "code",
   "execution_count": 6,
   "id": "3b27fd35-dfe3-4c07-b7c0-789d0c90d58c",
   "metadata": {},
   "outputs": [],
   "source": [
    "# Uniform Distribution is a probability distribution where all outcomes within a specified range are equally likely. In other words, each value has the same probability of occurring.\n",
    "\n",
    "# Example: Rolling a fair six-sided die, where each number (1 to 6) has an equal probability of 1/6 of being rolled."
   ]
  },
  {
   "cell_type": "code",
   "execution_count": null,
   "id": "f45e0c49-23d0-472d-b33e-0c8e6ad526f4",
   "metadata": {},
   "outputs": [],
   "source": [
    "# Q8: What is the z score? State the importance of the z score."
   ]
  },
  {
   "cell_type": "code",
   "execution_count": null,
   "id": "4c474522-4d93-4d80-9c6a-d28822fd4d6f",
   "metadata": {},
   "outputs": [],
   "source": [
    "'The Z-score (standard score) is a measure that indicates how many standard deviations a data point is from the mean. \n",
    "It is calculated as the difference between the data point and the mean, divided by the standard deviation.\n",
    "\n",
    "Importance of the Z-score: Z-scores are important because they allow us to standardize and compare data across different distributions. \n",
    "They help identify outliers and determine the relative position of a data point within a dataset, providing insights into its deviation from the mean.'"
   ]
  },
  {
   "cell_type": "code",
   "execution_count": null,
   "id": "c37355c4-a890-4883-9d37-f36ebfba742e",
   "metadata": {},
   "outputs": [],
   "source": [
    "# Q9: What is Central Limit Theorem? State the significance of the Central Limit Theorem."
   ]
  },
  {
   "cell_type": "code",
   "execution_count": 8,
   "id": "5e8b4ac4-809b-4d82-be35-c79c37c13bf5",
   "metadata": {},
   "outputs": [],
   "source": [
    "#The Central Limit Theorem states that the sampling distribution of the sample means approaches a normal distribution as the sample size increases, \n",
    "#regardless of the shape of the original population distribution.\n",
    "\n",
    "#Significance of the Central Limit Theorem: It allows us to make statistical inferences about a population based on the sample mean, \n",
    "#even if the population is not normally distributed, as long as the sample size is sufficiently large."
   ]
  },
  {
   "cell_type": "code",
   "execution_count": null,
   "id": "201512c2-70b2-4473-8e84-eb215eb49ae0",
   "metadata": {},
   "outputs": [],
   "source": [
    "# Q10: State the assumptions of the Central Limit Theorem."
   ]
  },
  {
   "cell_type": "code",
   "execution_count": null,
   "id": "aa8699ec-bea3-4655-87fe-8eed89fc987d",
   "metadata": {},
   "outputs": [],
   "source": [
    "#The Central Limit Theorem makes the following assumptions:\n",
    "\n",
    "#The data is collected from a random sample or a population with an infinite size.\n",
    "#The individual observations in the sample or population are independent of each other.\n",
    "#The sample size is sufficiently large, usually n ≥ 30, to ensure the sampling distribution of the sample mean approaches a normal distribution."
   ]
  }
 ],
 "metadata": {
  "kernelspec": {
   "display_name": "Python 3 (ipykernel)",
   "language": "python",
   "name": "python3"
  },
  "language_info": {
   "codemirror_mode": {
    "name": "ipython",
    "version": 3
   },
   "file_extension": ".py",
   "mimetype": "text/x-python",
   "name": "python",
   "nbconvert_exporter": "python",
   "pygments_lexer": "ipython3",
   "version": "3.10.8"
  }
 },
 "nbformat": 4,
 "nbformat_minor": 5
}
